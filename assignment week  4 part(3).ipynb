{
 "cells": [
  {
   "cell_type": "code",
   "execution_count": 1,
   "id": "e2ec6b41-b7a7-450a-aba3-d2bc3dfd6066",
   "metadata": {},
   "outputs": [],
   "source": [
    "class Animal:\n",
    "    def __init__(self, name,species):\n",
    "        self.nane = name\n",
    "        self.species = species"
   ]
  },
  {
   "cell_type": "code",
   "execution_count": 2,
   "id": "76cc6252-2f70-4433-a01f-03cac7f8d23f",
   "metadata": {},
   "outputs": [],
   "source": [
    "def make_sound(self):\n",
    "    pass"
   ]
  },
  {
   "cell_type": "code",
   "execution_count": 3,
   "id": "c23fc2f5-a7c8-49fc-ab73-6850418586d1",
   "metadata": {},
   "outputs": [],
   "source": [
    "def move(self):\n",
    "    pass"
   ]
  },
  {
   "cell_type": "code",
   "execution_count": 4,
   "id": "61710766-1607-4472-b77a-cb2ba5ad7b09",
   "metadata": {},
   "outputs": [],
   "source": [
    "class Lion(Animal):\n",
    "    def make_sound(self):\n",
    "        return \"Roar\"\n",
    "    \n",
    "    def move(self):\n",
    "        return \"Walks on four legs\""
   ]
  },
  {
   "cell_type": "code",
   "execution_count": 5,
   "id": "adf0775a-0b26-406e-9e15-3bf7d30d53e7",
   "metadata": {},
   "outputs": [],
   "source": [
    "class Elephant(Animal):\n",
    "    def make_sound(self):\n",
    "        return \"Trumpet\"\n",
    "    \n",
    "    def move(self):\n",
    "        return \"Walks on four legs\""
   ]
  },
  {
   "cell_type": "code",
   "execution_count": 6,
   "id": "e28cdb37-d286-4c88-8161-9bd4c290c094",
   "metadata": {},
   "outputs": [],
   "source": [
    "class Zebra(Animal):\n",
    "    def make_sound(self):\n",
    "        return \"Neigh\"\n",
    "    \n",
    "    def move(self):\n",
    "        return \"Runs on four legs\""
   ]
  },
  {
   "cell_type": "markdown",
   "id": "1cec1392-ed7a-4adb-98a1-4dfe711fb284",
   "metadata": {},
   "source": [
    "# Abstraction"
   ]
  },
  {
   "cell_type": "code",
   "execution_count": 7,
   "id": "201f0a92-ea46-46bc-808e-2e880eaea341",
   "metadata": {},
   "outputs": [],
   "source": [
    "class BankAccount:\n",
    "    def __init__(self,account_number,balance):\n",
    "        self.account_number = account_number\n",
    "        self.balance = balance"
   ]
  },
  {
   "cell_type": "code",
   "execution_count": 8,
   "id": "c193d73f-82cb-4c05-8ea7-abe44471f978",
   "metadata": {},
   "outputs": [],
   "source": [
    "def deposit(self, amount):\n",
    "    pass"
   ]
  },
  {
   "cell_type": "code",
   "execution_count": 9,
   "id": "f0677777-fb30-4703-8da8-23d564b55b2c",
   "metadata": {},
   "outputs": [],
   "source": [
    "def withdrawa(self, amount):\n",
    "    pass"
   ]
  },
  {
   "cell_type": "markdown",
   "id": "7ce4f97a-67cf-49cb-8616-1d626a108b40",
   "metadata": {},
   "source": [
    "# Encapsulation"
   ]
  },
  {
   "cell_type": "code",
   "execution_count": 14,
   "id": "f98291b1-cb7f-4c51-b989-269963bd1821",
   "metadata": {},
   "outputs": [],
   "source": [
    "class BankAccount:\n",
    "    def __init__(self,account_number, balance):\n",
    "         self._account_number = account_number"
   ]
  },
  {
   "cell_type": "markdown",
   "id": "a387e5af-76cc-4e55-995c-f8ad3ca264f0",
   "metadata": {},
   "source": [
    "# Encapsulation with a private attribute"
   ]
  },
  {
   "cell_type": "code",
   "execution_count": 17,
   "id": "f54e5aca-5a6b-4f08-84ec-597294c29ffb",
   "metadata": {},
   "outputs": [
    {
     "ename": "NameError",
     "evalue": "name 'balance' is not defined",
     "output_type": "error",
     "traceback": [
      "\u001b[0;31m---------------------------------------------------------------------------\u001b[0m",
      "\u001b[0;31mNameError\u001b[0m                                 Traceback (most recent call last)",
      "Cell \u001b[0;32mIn[17], line 1\u001b[0m\n\u001b[0;32m----> 1\u001b[0m \u001b[38;5;28mself\u001b[39m\u001b[38;5;241m.\u001b[39m_balance \u001b[38;5;241m=\u001b[39m \u001b[43mbalance\u001b[49m\n\u001b[1;32m      3\u001b[0m \u001b[38;5;28;01mdef\u001b[39;00m \u001b[38;5;21mdeposit\u001b[39m(\u001b[38;5;28mself\u001b[39m,amount):\n\u001b[1;32m      4\u001b[0m   \u001b[38;5;28mself\u001b[39m\u001b[38;5;241m.\u001b[39mbalance \u001b[38;5;241m+\u001b[39m\u001b[38;5;241m=\u001b[39mamount\n",
      "\u001b[0;31mNameError\u001b[0m: name 'balance' is not defined"
     ]
    }
   ],
   "source": [
    "  self._balance = balance\n",
    "\n",
    "def deposit(self,amount):\n",
    "    self.balance +=amount\n",
    "    \n",
    "def withdraw(self,amount):\n",
    "    if amount <= self._balance:\n",
    "        self._balance -= amount\n",
    "    else:\n",
    "        print(\"Insufficent funds\")\n",
    "        \n",
    "def get_balance(self):\n",
    "    return self._balance      "
   ]
  },
  {
   "cell_type": "markdown",
   "id": "2c4d490c-1419-425c-924f-50ffd149720f",
   "metadata": {},
   "source": [
    "#The abc module in python stands for \"Abstract Base Classes.\"\n",
    "it provides a way to define abstract base classes and abstract method,which are useful for creating a common interface that subclasses must adhere to.\n",
    "This helps in enforcing a certain structure in derived classes,making the code more robust and maintable.\n",
    "its particularly used for creating frameworks and libraies where you want to ensure that certain method are implented by subclasses"
   ]
  },
  {
   "cell_type": "markdown",
   "id": "0746b611-d19c-4845-901f-225a1c2a4794",
   "metadata": {},
   "source": [
    "#Data abstraction can be acheive through techniques like encapsulation and abstraction mechanism in programming language .\n",
    "Encapsulation inovles bundling data and method that operate on the data and method that operate on the data and method that operate on the data into a single unit,typically a class in object-orinted programming.\n",
    "Abstraction, on the other hand, involes simplfing complex system by modelling classes based on relvant charterstics and ignoring uncesasary details."
   ]
  },
  {
   "cell_type": "markdown",
   "id": "535c2686-2818-494f-824b-fb95ae76c302",
   "metadata": {},
   "source": [
    "#No,you cannot create an instance of an abstact class directly.Abstract classes are meant to be subclassed and their abstract method must be implemented by concerte. (non-abstract) subclasses.Instances of abstract classes are instantiated through their concr"
   ]
  }
 ],
 "metadata": {
  "kernelspec": {
   "display_name": "Python 3 (ipykernel)",
   "language": "python",
   "name": "python3"
  },
  "language_info": {
   "codemirror_mode": {
    "name": "ipython",
    "version": 3
   },
   "file_extension": ".py",
   "mimetype": "text/x-python",
   "name": "python",
   "nbconvert_exporter": "python",
   "pygments_lexer": "ipython3",
   "version": "3.10.8"
  }
 },
 "nbformat": 4,
 "nbformat_minor": 5
}
